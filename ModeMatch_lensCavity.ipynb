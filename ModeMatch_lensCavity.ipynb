{
 "cells": [
  {
   "cell_type": "code",
   "execution_count": 5,
   "id": "53d3b03e-c308-4fe5-bb2e-41b7c1cb8b96",
   "metadata": {},
   "outputs": [],
   "source": [
    "#import\n",
    "\n",
    "import numpy as np\n",
    "import matplotlib.pyplot as plt\n",
    "from scipy.optimize import curve_fit\n",
    "from scipy.optimize import fsolve\n",
    "from scipy.optimize import minimize\n",
    "\n",
    "#parameter\n",
    "\n",
    "ng = 1.452 #diffractive index of glass\n",
    "lam = 852e-9 #wave length[m]\n",
    "R = 75e-3 #curvature radius[m]\n",
    "L = 5e-3 #length of cavity[m]\n",
    "f = np.array([30,40,50,75,100,125,150,200,250,300,400,500])*1e-3 #focus length[m]"
   ]
  },
  {
   "cell_type": "markdown",
   "id": "f2f93376",
   "metadata": {},
   "source": [
    "# stability conditions"
   ]
  },
  {
   "cell_type": "code",
   "execution_count": 6,
   "id": "5ae8d136",
   "metadata": {},
   "outputs": [
    {
     "name": "stdout",
     "output_type": "stream",
     "text": [
      "R_cav= inf [m]\n",
      "Omega_cav= 5.9112396135854004e-05 [m]\n"
     ]
    },
    {
     "name": "stderr",
     "output_type": "stream",
     "text": [
      "C:\\Users\\502646\\AppData\\Local\\Temp\\ipykernel_12152\\1033302298.py:15: RuntimeWarning: divide by zero encountered in scalar divide\n",
      "  R_cav = 2*B/(D-A)\n"
     ]
    }
   ],
   "source": [
    "#stability condition of FilterCavity\n",
    "\n",
    "def stabCal(L,R,n,lam):\n",
    "    ML = np.array([[1,L],[0,1]])\n",
    "    MR = np.array([[1,0],[-2/R,1]]) #曲面鏡での反射\n",
    "\n",
    "    M = np.matmul(MR,ML)\n",
    "    M = np.matmul(ML,M)\n",
    "\n",
    "    A=M[0][0]\n",
    "    B=M[0][1]\n",
    "    C=M[1][0]\n",
    "    D=M[1][1]\n",
    "\n",
    "    R_cav = 2*B/(D-A)\n",
    "    Omega_cav = np.sqrt(2*B*lam/(np.pi*n*np.sqrt(4-(A+D)**2)))\n",
    "    return R_cav, Omega_cav\n",
    "\n",
    "R_cav = stabCal(L,R,ng,lam)[0]\n",
    "print(\"R_cav=\",R_cav,\"[m]\")\n",
    "Omega_cav = stabCal(L,R,ng,lam)[1]\n",
    "print(\"Omega_cav=\",Omega_cav,\"[m]\")"
   ]
  },
  {
   "cell_type": "markdown",
   "id": "ddfc7251",
   "metadata": {},
   "source": [
    "この結果からlens cavityでは入射面においてbeam waistが来るようにし,なおかつそのbeam waistを所望のsizeに変換する必要があることがわかった.\\\n",
    "そのbeam径の変換はlensによっておこなう. 以下では,そのlensの焦点距離と位置を見積もっていく.\\\n",
    "見積もりの方法はlensの数:one or twoとlen前のbeamのcollimationの状態が完全と仮定するか否かによって、4通りの方法がある."
   ]
  },
  {
   "cell_type": "markdown",
   "id": "b5e7f5c6",
   "metadata": {},
   "source": [
    "# Perfect collimation condition (for one lens)"
   ]
  },
  {
   "cell_type": "markdown",
   "id": "3a00252f",
   "metadata": {},
   "source": [
    "lensに入射する光が完全に平行光であると仮定すると, lensの置く位置はlensの入射面から焦点距離:fだけ後ろに置けばいいことになる.\\\n",
    "(beam waistの位置=lensから焦点距離離れた位置だから)\\\n",
    "この仮定の下で元のbeam radiusと測定し,各焦点距離のlensで絞った後のbeam radius: Omega_dashを計算する.\\\n",
    "その値がOmega_cavに最も近いlensを採用するという方針である."
   ]
  },
  {
   "cell_type": "code",
   "execution_count": 7,
   "id": "087d7eef",
   "metadata": {},
   "outputs": [],
   "source": [
    "def matrixCal(Omega,f,n):\n",
    "    Mf = np.array([[1,0],[-1/f,1]])\n",
    "    Md = np.array([[1,f],[0,1]])\n",
    "    Mn = np.array([[1,0],[0,1/n]]) #自由空間からlensに入射する時の平面境界での屈折\n",
    "\n",
    "    M=np.matmul(Md,Mf)\n",
    "    M=np.matmul(Mn,M)\n",
    "    \n",
    "    A=M[0][0]\n",
    "    B=M[0][1]\n",
    "    C=M[1][0]\n",
    "    D=M[1][1]\n",
    "\n",
    "    q_in = 1j*np.pi*Omega**2/lam\n",
    "    q_out = (A*q_in+B)/(C*q_in+D)\n",
    "    Omega_dash = np.sqrt(q_out.imag*lam/np.pi)\n",
    "    return Omega_dash"
   ]
  },
  {
   "cell_type": "code",
   "execution_count": 10,
   "id": "70ca4d02",
   "metadata": {},
   "outputs": [
    {
     "name": "stdout",
     "output_type": "stream",
     "text": [
      "Omega_cav: 5.9112396135854004e-05 [m]\n",
      "f= 30 [mm]: 2.188986640298862e-05 [m]\n",
      "f= 40 [mm]: 2.9167802221915518e-05 [m]\n",
      "f= 50 [mm]: 3.642978701715861e-05 [m]\n",
      "f= 75 [mm]: 5.448946505099447e-05 [m]\n",
      "f= 100 [mm]: 7.236582497641218e-05 [m]\n",
      "f= 125 [mm]: 9.000253838693357e-05 [m]\n",
      "f= 150 [mm]: 0.00010734713467807124 [m]\n",
      "f= 200 [mm]: 0.00014097334704654528 [m]\n",
      "f= 250 [mm]: 0.000172923971160442 [m]\n",
      "f= 300 [mm]: 0.00020296751564575675 [m]\n",
      "f= 400 [mm]: 0.00025684193662415617 [m]\n",
      "f= 500 [mm]: 0.0003023399437532355 [m]\n"
     ]
    }
   ],
   "source": [
    "#コリメート光のbeam radius\n",
    "Omega_0 = 895e-6/2\n",
    "\n",
    "print(\"Omega_cav:\",Omega_cav,\"[m]\")\n",
    "for i in f:\n",
    "    print(\"f=\",int(i*1e3),\"[mm]:\",matrixCal(Omega_0,i,ng),\"[m]\")"
   ]
  },
  {
   "cell_type": "markdown",
   "id": "dc936c1f",
   "metadata": {},
   "source": [
    "# Imperfect collimation condition (for one lens)"
   ]
  },
  {
   "cell_type": "markdown",
   "id": "021eaf59",
   "metadata": {},
   "source": [
    "lensに入射する光が平行光ではないとすると,1つ前のpefect collimation conditionの場合と異なり,lemsからcavityまでの距離:d2がfと一致するとは限らなくなる.\\\n",
    "この場合,まず,lensで絞る前のガウシアンビームのビーム形状を知る必要があるので,beam profilerで3～5点でのbeam radiusを測定し,beam waistの位置とspot sizeを計算する.\\\n",
    "そして,そこで計算したようなガウシアンビームを各焦点距離:fのlensで絞った後のbeam radius: Omega_dashがOmega_cavと一致するようにd1,d2を最適化する."
   ]
  },
  {
   "cell_type": "code",
   "execution_count": 13,
   "id": "0760a77d",
   "metadata": {},
   "outputs": [
    {
     "name": "stdout",
     "output_type": "stream",
     "text": [
      "rayleigh length: 1.3909002842849392 [m]\n",
      "waist position: -2.0905532564150757 [m]\n",
      "beam waist: 0.0006142841446121676 [m]\n"
     ]
    },
    {
     "data": {
      "image/png": "[encoded data removed]",
      "text/plain": [
       "<Figure size 800x400 with 1 Axes>"
      ]
     },
     "metadata": {},
     "output_type": "display_data"
    }
   ],
   "source": [
    "zs = np.array([17,25,33,41,49,57,65,73,81,89,95,103,111,117,119])*25*1e-3 #[m]\n",
    "ws = np.array([1339,1379,1424,1475,1555,1652,1728,1810,1909,1958,2066,2165,2253,2313,2363])*1e-6 #[m]\n",
    "\n",
    "lam = 852.3e-9\n",
    "\n",
    "#任意の位置:zにおけるビーム径を\n",
    "def waist(z, z0, w0):\n",
    "    z_R = np.pi*1*w0**2/lam #Rayleigh length\n",
    "    return w0*np.sqrt(1 + ((z-z0)/z_R)**2)\n",
    "\n",
    "z = np.linspace(-4500e-3, 4500e-3, 9001)\n",
    "\n",
    "popt, pcov = curve_fit(waist, zs, ws)\n",
    "waist_position = popt[0]\n",
    "rayleigh_length = np.pi*1*popt[1]**2/lam\n",
    "print(\"rayleigh length:\",rayleigh_length,\"[m]\")\n",
    "print(\"waist position:\",waist_position,\"[m]\")\n",
    "Omega0 = popt[1] \n",
    "print(\"beam waist:\",Omega0,\"[m]\")\n",
    "\n",
    "\n",
    "\n",
    "plt.figure(figsize=(8,4))\n",
    "plt.plot(z, waist(z, *popt))\n",
    "plt.plot(zs, ws, '.')\n",
    "plt.xlabel(\"length[m]\")\n",
    "plt.ylabel(\"radius[m]\")\n",
    "plt.show()"
   ]
  },
  {
   "cell_type": "code",
   "execution_count": 14,
   "id": "55695498",
   "metadata": {},
   "outputs": [],
   "source": [
    "#one lens version  \n",
    "\n",
    "def matrixCal(d,f,n):\n",
    "    d1 = d[0]\n",
    "    d2 = d[1]\n",
    "    Mf = np.array([[1,0],[-1/f,1]])\n",
    "    Md1 = np.array([[1,d1],[0,1]])\n",
    "    Md2 = np.array([[1,d2],[0,1]])\n",
    "    Mn = np.array([[1,0],[0,1/n]]) #自由空間からlensに入射する時の平面境界での屈折\n",
    "\n",
    "    M=np.matmul(Mf,Md1)\n",
    "    M=np.matmul(Md2,M)\n",
    "    M=np.matmul(Mn,M)\n",
    "    \n",
    "    A=M[0][0]\n",
    "    B=M[0][1]\n",
    "    C=M[1][0]\n",
    "    D=M[1][1]\n",
    "\n",
    "    q_in = 1j*np.pi*1*Omega0**2/lam\n",
    "    q_out = (A*q_in+B)/(C*q_in+D)\n",
    "    Omega_dash = np.sqrt(q_out.imag*lam/np.pi*1)\n",
    "    CurvatureRadius_dash = 1/q_out.real\n",
    "    return Omega_dash, CurvatureRadius_dash\n",
    "\n",
    "#目的関数(これを最小化することでパラメータが最適化される)\n",
    "def objective(d,f,n):\n",
    "    diameter_error = (matrixCal(d,f,n)[0]- Omega_cav)**2\n",
    "    return diameter_error\n",
    "\n",
    "#曲率に関する制約条件用関数\n",
    "def curvature_constraint(d,f,ng):\n",
    "    current_curvature_radius = 1/matrixCal(d,f,ng)[1]\n",
    "    return current_curvature_radius\n",
    "\n",
    "# d1とd2の範囲\n",
    "bounds = [(0-rayleigh_length, 0.5-rayleigh_length), (0, 0.3)]\n",
    "# d1とd2の初期値\n",
    "initial_guess = [(bounds[0][0]+bounds[0][1])/2, (bounds[1][0]+bounds[1][1])/2]"
   ]
  },
  {
   "cell_type": "code",
   "execution_count": 16,
   "id": "6e296e36",
   "metadata": {},
   "outputs": [
    {
     "name": "stdout",
     "output_type": "stream",
     "text": [
      "Omega cavity: 5.9112396135854004e-05 [m]\n",
      "final radius: 5.851015651130605e-05[m]\n",
      "final cuevature radius:-1674575084677.1826[m]\n",
      "d1: -114.08965310261357 [cm], d2: 14.193417629449426 [cm]\n",
      "focus length: 150.0 [mm]\n"
     ]
    }
   ],
   "source": [
    "final_list=[]\n",
    "\n",
    "for i in f:\n",
    "    #制約の定義\n",
    "    constraints = {\n",
    "    'type': 'eq',  #等式制約\n",
    "    'fun': curvature_constraint,\n",
    "    'args': (i,ng)\n",
    "    }\n",
    "    result = minimize(objective, initial_guess, args=(i,ng), bounds=bounds, constraints=constraints)\n",
    "    if result.success:\n",
    "        optimized_d1, optimized_d2 = result.x\n",
    "        final_radius, final_curvature = matrixCal([optimized_d1,optimized_d2], i, ng)\n",
    "        final_list.append((final_radius, final_curvature, optimized_d1, optimized_d2, i)) #[m]\n",
    "\n",
    "# 最適な結果を表示\n",
    "if final_list:\n",
    "    closest_radius = min(final_list, key=lambda x: abs(x[0] - Omega_cav))\n",
    "    print(\"Omega cavity:\", Omega_cav,\"[m]\")\n",
    "    print(f\"final radius: {closest_radius[0]}[m]\")\n",
    "    print(f\"final cuevature radius:{closest_radius[1]}[m]\")\n",
    "    print(f\"d1: {closest_radius[2] * 1e2} [cm], d2: {closest_radius[3] * 1e2} [cm]\")\n",
    "    print(f\"focus length: {closest_radius[4] * 1e3} [mm]\")"
   ]
  },
  {
   "cell_type": "markdown",
   "id": "a44da314",
   "metadata": {},
   "source": [
    "# Perfect collimation condition (for two lens)"
   ]
  },
  {
   "cell_type": "markdown",
   "id": "ce9a7992",
   "metadata": {},
   "source": [
    "lensに入射する光が完全に平行光であると仮定したうえで, 焦点距離:f1のlens1, lens1とlens2間の距離:d1, 焦点距離:f2のlens2, lens2とlens cavity間の距離:d2の伝搬を光線行列で追跡する.\\\n",
    "元のgaussian beamを十分collimationした上で, beam radiusを測定し,それを上述の光線行列により絞った後のbeam radius: Omega_dashを計算する.\\\n",
    "その値がOmega_cavに最も近いlensを採用し, 位置:d2,d3を最適化するという方針である."
   ]
  },
  {
   "cell_type": "code",
   "execution_count": 17,
   "id": "a1bad0f9",
   "metadata": {},
   "outputs": [
    {
     "name": "stdout",
     "output_type": "stream",
     "text": [
      "Omega cavity: 5.9112396135854004e-05 [m]\n",
      "final radius: 6.254826143204203e-05[m]\n",
      "final cuevature radius:1942790031.5920875[m]\n",
      "d2: 6.658903853359063 [cm], d3: 5.677192053367585 [cm]\n",
      "focus length 1: 200.0 [mm], focus length 2: 100.0 [mm]\n"
     ]
    }
   ],
   "source": [
    "# caution: beam profiler output is diameter, not radius \n",
    "Omega0 = 895e-6/2 #[m]\n",
    "\n",
    "# 光線行列\n",
    "def matrixCal(d, f1, f2, n):\n",
    "    d2 = d[0]\n",
    "    d3 = d[1]\n",
    "    Mf1 = np.array([[1, 0], [-1 / f1, 1]])\n",
    "    Mf2 = np.array([[1, 0], [-1 / f2, 1]])\n",
    "    Md2 = np.array([[1, d2], [0, 1]])\n",
    "    Md3 = np.array([[1, d3], [0, 1]])\n",
    "    Mn = np.array([[1, 0], [0, 1/n]])\n",
    "    M = np.matmul(Md2, Mf1)\n",
    "    M = np.matmul(Mf2, M)\n",
    "    M = np.matmul(Md3, M)\n",
    "    M = np.matmul(Mn, M)\n",
    "    A = M[0][0]\n",
    "    B = M[0][1]\n",
    "    C = M[1][0]\n",
    "    D = M[1][1]\n",
    "    q_in = 1j*np.pi*1*Omega0**2/lam\n",
    "    q_out = (A * q_in + B) / (C * q_in + D)\n",
    "    # lens cavityにおいては,q_outもbeam waistに相当するのでq_inと同じくR=infと仮定してよい\n",
    "    # ※数値計算においては厳密にはR=infにはならないことに注意\n",
    "    Omega_dash = np.sqrt(q_out.imag * lam / (np.pi*1))\n",
    "    CurvatureRadius_dash = 1/q_out.real\n",
    "    return Omega_dash, CurvatureRadius_dash\n",
    "\n",
    "# 目的関数\n",
    "def objective(d, f1, f2, n):\n",
    "    radius_error = (matrixCal(d, f1, f2, n)[0] - Omega0) ** 2 #二乗誤差\n",
    "    return radius_error\n",
    "\n",
    "# 曲率半径制約(D-A=0)\n",
    "def curvature_constraint(d, f1, f2, n):\n",
    "    return 1/matrixCal(d, f1, f2, n)[1]\n",
    "\n",
    "# parameter:d2,d3の範囲制約と初期値の定義\n",
    "tube_length = 0.0635 #[m]\n",
    "#candidate: 50.8, 63.5, 76.3, 88.9[mm]\n",
    "adjuster = 0.033\n",
    "bounds = [(tube_length, tube_length+adjuster), (0.05, 0.20)]  # d2とd3の範囲[m]\n",
    "initial_guess = [(bounds[0][0]+bounds[0][1])/2, (bounds[1][0]+bounds[1][1])/2]  # d2とd3の初期値[m]\n",
    "\n",
    "# 最適化ループ\n",
    "final_list = []\n",
    "for i in f:  # f1\n",
    "    for j in f:  # f2\n",
    "        constraints = {\n",
    "            'type': 'eq',  # 等式制約\n",
    "            'fun': curvature_constraint,\n",
    "            'args': (i, j, ng)\n",
    "        }\n",
    "        result = minimize(objective, initial_guess, args=(i, j, ng), bounds=bounds, constraints=constraints)\n",
    "        if result.success:\n",
    "            optimized_d2, optimized_d3 = result.x\n",
    "            final_radius, final_curvature = matrixCal([optimized_d2,optimized_d3], i, j, ng)\n",
    "            final_list.append((final_radius, final_curvature, optimized_d2, optimized_d3, i, j)) #[m]\n",
    "\n",
    "# 最適な結果を表示\n",
    "if final_list:\n",
    "    closest_radius = min(final_list, key=lambda x: abs(x[0] - Omega_cav))\n",
    "    print(\"Omega cavity:\", Omega_cav,\"[m]\")\n",
    "    print(f\"final radius: {closest_radius[0]}[m]\")\n",
    "    print(f\"final cuevature radius:{closest_radius[1]}[m]\")\n",
    "    print(f\"d2: {closest_radius[2] * 1e2} [cm], d3: {closest_radius[3] * 1e2} [cm]\")\n",
    "    print(f\"focus length 1: {closest_radius[4] * 1e3} [mm], focus length 2: {closest_radius[5] * 1e3} [mm]\")"
   ]
  },
  {
   "cell_type": "markdown",
   "id": "3253660a",
   "metadata": {},
   "source": [
    "# Imperfect collimation condition (for two lens)"
   ]
  },
  {
   "cell_type": "code",
   "execution_count": 18,
   "id": "3ee3d6cc",
   "metadata": {},
   "outputs": [
    {
     "name": "stdout",
     "output_type": "stream",
     "text": [
      "rayleigh length: 1.3909002842849392 [m]\n",
      "waist position: -2.0905532564150757 [m]\n",
      "beam waist: 0.0006142841446121676 [m]\n"
     ]
    },
    {
     "data": {
      "image/png": "[encoded data removed]",
      "text/plain": [
       "<Figure size 800x400 with 1 Axes>"
      ]
     },
     "metadata": {},
     "output_type": "display_data"
    }
   ],
   "source": [
    "zs = np.array([17,25,33,41,49,57,65,73,81,89,95,103,111,117,119])*25*1e-3 #[m]\n",
    "ws = np.array([1339,1379,1424,1475,1555,1652,1728,1810,1909,1958,2066,2165,2253,2313,2363])*1e-6 #[m]\n",
    "\n",
    "lam = 852.3e-9\n",
    "\n",
    "#任意の位置:zにおけるビーム径を\n",
    "def waist(z, z0, w0):\n",
    "    z_R = np.pi*1*w0**2/lam #Rayleigh length\n",
    "    return w0*np.sqrt(1 + ((z-z0)/z_R)**2)\n",
    "\n",
    "z = np.linspace(-4500e-3, 4500e-3, 9001)\n",
    "\n",
    "popt, pcov = curve_fit(waist, zs, ws)\n",
    "waist_position = popt[0]\n",
    "print(\"rayleigh length:\",np.pi*1*popt[1]**2/lam,\"[m]\")\n",
    "print(\"waist position:\",waist_position,\"[m]\")\n",
    "Omega0 = popt[1] \n",
    "print(\"beam waist:\",Omega0,\"[m]\")\n",
    "\n",
    "\n",
    "\n",
    "plt.figure(figsize=(8,4))\n",
    "plt.plot(z, waist(z, *popt))\n",
    "plt.plot(zs, ws, '.')\n",
    "plt.xlabel(\"length[m]\")\n",
    "plt.ylabel(\"radius[m]\")\n",
    "plt.show()"
   ]
  },
  {
   "cell_type": "code",
   "execution_count": 19,
   "id": "61df4119-2423-4a43-bad1-7fb99e4c1c02",
   "metadata": {},
   "outputs": [],
   "source": [
    "#two lens version  \n",
    "\n",
    "def matrixCal(d,f1,f2,n):\n",
    "    d1=d[0]\n",
    "    d2=d[1]\n",
    "    d3=d[2]\n",
    "    Mf1 = np.array([[1,0],[-1/f1,1]])\n",
    "    Mf2 = np.array([[1,0],[-1/f2,1]])\n",
    "    Md1 = np.array([[1,d1],[0,1]])\n",
    "    Md2 = np.array([[1,d2],[0,1]])\n",
    "    Md3 = np.array([[1,d3],[0,1]])\n",
    "    Mn = np.array([[1,0],[0,1/n]]) #自由空間からlensに入射する時の平面境界での屈折\n",
    "\n",
    "    M=np.matmul(Mf1,Md1)\n",
    "    M=np.matmul(Md2,M)\n",
    "    M=np.matmul(Mf2,M)\n",
    "    M=np.matmul(Md3,M)\n",
    "    M=np.matmul(Mn,M)\n",
    "\n",
    "    A=M[0][0]\n",
    "    B=M[0][1]\n",
    "    C=M[1][0]\n",
    "    D=M[1][1]\n",
    "\n",
    "    q_in = 1j*np.pi*1*Omega0**2/lam\n",
    "    q_out = (A*q_in+B)/(C*q_in+D)\n",
    "    Omega_dash = np.sqrt(q_out.imag*lam/np.pi*1)\n",
    "    CurvatureRadius_dash = 1/q_out.real\n",
    "    return Omega_dash, CurvatureRadius_dash\n",
    "\n",
    "def objective(d,f1,f2,n):\n",
    "    diameter_error = (matrixCal(d,f1,f2,n)[0]- Omega_cav)**2\n",
    "    return diameter_error\n",
    "\n",
    "def curvature_constraint(d,f1,f2,n):\n",
    "    return 1/matrixCal(d,f1,f2,n)[1]"
   ]
  },
  {
   "cell_type": "code",
   "execution_count": 35,
   "id": "cba21814",
   "metadata": {},
   "outputs": [],
   "source": [
    "# d1,d2,d3の範囲\n",
    "tube_length = 0.0508 #[m]\n",
    "#candidate: 50.8, 63.5, 76.3, 88.9[mm]\n",
    "adjuster = 0.033\n",
    "\n",
    "# d1,d2,d3の初期値\n",
    "bounds = [(0-waist_position, 0.5-waist_position), (tube_length, tube_length+adjuster), (0, 0.20)]\n",
    "initial_guess = [(bounds[0][0]+bounds[0][1])/2, (bounds[1][0]+bounds[1][1])/2, (bounds[2][0]+bounds[2][1])/2]"
   ]
  },
  {
   "cell_type": "code",
   "execution_count": 36,
   "id": "658efb80",
   "metadata": {},
   "outputs": [
    {
     "name": "stdout",
     "output_type": "stream",
     "text": [
      "Omega cavity: 5.9112396135854004e-05 [m]\n",
      "final radius: 5.9408941074642236e-05[m]\n",
      "final cuevature radius:483935730458.14325[m]\n",
      "出射ポートからlens1までの距離: 250.23583060077482 [mm], d2: 79.04543967670679 [mm], d3: 189.25698571763218 [mm]\n",
      "focus length 1: 500.0 [mm], focus length 2: 300.0 [mm]\n"
     ]
    }
   ],
   "source": [
    "final_list = []\n",
    "for i in f: #f1\n",
    "    for j in f: #f2\n",
    "        #制約の定義\n",
    "        constraints = {\n",
    "        'type': 'eq',  #等式制約\n",
    "        'fun': curvature_constraint,\n",
    "        'args': (i,j,ng)\n",
    "        }\n",
    "        result = minimize(objective, initial_guess, args=(i,j,ng), bounds=bounds, constraints=constraints)\n",
    "        if result.success:\n",
    "            optimized_d1, optimized_d2, optimized_d3 = result.x\n",
    "            final_radius, final_curvature = matrixCal([optimized_d1,optimized_d2,optimized_d3], i, j, ng)\n",
    "            final_list.append((final_radius, final_curvature, optimized_d1, optimized_d2, optimized_d3, i, j)) #[m]\n",
    "            \n",
    "if final_list:\n",
    "    closest_radius = min(final_list, key=lambda x: abs(x[0] - Omega_cav))\n",
    "    print(\"Omega cavity:\", Omega_cav,\"[m]\")\n",
    "    print(f\"final radius: {closest_radius[0]}[m]\")\n",
    "    print(f\"final cuevature radius:{closest_radius[1]}[m]\")\n",
    "    print(f\"出射ポートからlens1までの距離: {(closest_radius[2]+waist_position) * 1e3} [mm], d2: {closest_radius[3] * 1e3} [mm], d3: {closest_radius[4] * 1e3} [mm]\")\n",
    "    print(f\"focus length 1: {closest_radius[5] * 1e3} [mm], focus length 2: {closest_radius[6] * 1e3} [mm]\")"
   ]
  }
 ],
 "metadata": {
  "kernelspec": {
   "display_name": "Python 3 (ipykernel)",
   "language": "python",
   "name": "python3"
  },
  "language_info": {
   "codemirror_mode": {
    "name": "ipython",
    "version": 3
   },
   "file_extension": ".py",
   "mimetype": "text/x-python",
   "name": "python",
   "nbconvert_exporter": "python",
   "pygments_lexer": "ipython3",
   "version": "3.11.5"
  }
 },
 "nbformat": 4,
 "nbformat_minor": 5
}
